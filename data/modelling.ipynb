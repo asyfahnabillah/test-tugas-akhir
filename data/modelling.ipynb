{
 "cells": [
  {
   "cell_type": "code",
   "execution_count": 9,
   "id": "dcc246ae",
   "metadata": {},
   "outputs": [],
   "source": [
    "#Import Library\n",
    "import numpy as np\n",
    "import pandas as pd\n",
    "import matplotlib.pyplot as plt\n",
    "import seaborn as sns\n",
    "# me-non aktifkan peringatan pada python\n",
    "import warnings \n",
    "warnings.filterwarnings('ignore')"
   ]
  },
  {
   "cell_type": "code",
   "execution_count": 10,
   "id": "fd7defbb",
   "metadata": {},
   "outputs": [
    {
     "data": {
      "text/html": [
       "<div>\n",
       "<style scoped>\n",
       "    .dataframe tbody tr th:only-of-type {\n",
       "        vertical-align: middle;\n",
       "    }\n",
       "\n",
       "    .dataframe tbody tr th {\n",
       "        vertical-align: top;\n",
       "    }\n",
       "\n",
       "    .dataframe thead th {\n",
       "        text-align: right;\n",
       "    }\n",
       "</style>\n",
       "<table border=\"1\" class=\"dataframe\">\n",
       "  <thead>\n",
       "    <tr style=\"text-align: right;\">\n",
       "      <th></th>\n",
       "      <th>UMUR(TAHUN)</th>\n",
       "      <th>JENIS KELAMIN</th>\n",
       "      <th>PEKERJAAN</th>\n",
       "      <th>MEROKOK</th>\n",
       "      <th>PERILAKU BAB DI JAMBAN</th>\n",
       "      <th>PERILAKU PENGGUNAAN AIR BERSIH</th>\n",
       "      <th>BATUK BERDAHAK &gt;= 2 MINGGU</th>\n",
       "      <th>DILAKUKAN PENGUKURAN TEKANAN DARAH</th>\n",
       "      <th>MENGGUNAKAN KB</th>\n",
       "      <th>DI DIAGNOSIS HIPERTENSI</th>\n",
       "    </tr>\n",
       "  </thead>\n",
       "  <tbody>\n",
       "    <tr>\n",
       "      <th>0</th>\n",
       "      <td>Tua</td>\n",
       "      <td>laki-laki</td>\n",
       "      <td>Pedagang</td>\n",
       "      <td>T</td>\n",
       "      <td>Y</td>\n",
       "      <td>Y</td>\n",
       "      <td>T</td>\n",
       "      <td>T</td>\n",
       "      <td>N</td>\n",
       "      <td>T</td>\n",
       "    </tr>\n",
       "    <tr>\n",
       "      <th>1</th>\n",
       "      <td>Tua</td>\n",
       "      <td>perempuan</td>\n",
       "      <td>Mengurus Rumah Tangga</td>\n",
       "      <td>T</td>\n",
       "      <td>Y</td>\n",
       "      <td>Y</td>\n",
       "      <td>T</td>\n",
       "      <td>T</td>\n",
       "      <td>T</td>\n",
       "      <td>T</td>\n",
       "    </tr>\n",
       "    <tr>\n",
       "      <th>2</th>\n",
       "      <td>Tua</td>\n",
       "      <td>perempuan</td>\n",
       "      <td>Mengurus Rumah Tangga</td>\n",
       "      <td>T</td>\n",
       "      <td>Y</td>\n",
       "      <td>Y</td>\n",
       "      <td>T</td>\n",
       "      <td>T</td>\n",
       "      <td>N</td>\n",
       "      <td>T</td>\n",
       "    </tr>\n",
       "    <tr>\n",
       "      <th>3</th>\n",
       "      <td>Tua</td>\n",
       "      <td>laki-laki</td>\n",
       "      <td>Pedagang</td>\n",
       "      <td>T</td>\n",
       "      <td>Y</td>\n",
       "      <td>Y</td>\n",
       "      <td>T</td>\n",
       "      <td>T</td>\n",
       "      <td>N</td>\n",
       "      <td>T</td>\n",
       "    </tr>\n",
       "    <tr>\n",
       "      <th>4</th>\n",
       "      <td>Tua</td>\n",
       "      <td>laki-laki</td>\n",
       "      <td>Karyawan Swasta</td>\n",
       "      <td>Y</td>\n",
       "      <td>Y</td>\n",
       "      <td>Y</td>\n",
       "      <td>T</td>\n",
       "      <td>T</td>\n",
       "      <td>T</td>\n",
       "      <td>T</td>\n",
       "    </tr>\n",
       "    <tr>\n",
       "      <th>...</th>\n",
       "      <td>...</td>\n",
       "      <td>...</td>\n",
       "      <td>...</td>\n",
       "      <td>...</td>\n",
       "      <td>...</td>\n",
       "      <td>...</td>\n",
       "      <td>...</td>\n",
       "      <td>...</td>\n",
       "      <td>...</td>\n",
       "      <td>...</td>\n",
       "    </tr>\n",
       "    <tr>\n",
       "      <th>23428</th>\n",
       "      <td>Tua</td>\n",
       "      <td>perempuan</td>\n",
       "      <td>Mengurus Rumah Tangga</td>\n",
       "      <td>Y</td>\n",
       "      <td>Y</td>\n",
       "      <td>Y</td>\n",
       "      <td>N</td>\n",
       "      <td>N</td>\n",
       "      <td>N</td>\n",
       "      <td>Y</td>\n",
       "    </tr>\n",
       "    <tr>\n",
       "      <th>23429</th>\n",
       "      <td>Muda</td>\n",
       "      <td>perempuan</td>\n",
       "      <td>Mengurus Rumah Tangga</td>\n",
       "      <td>T</td>\n",
       "      <td>Y</td>\n",
       "      <td>Y</td>\n",
       "      <td>T</td>\n",
       "      <td>Y</td>\n",
       "      <td>N</td>\n",
       "      <td>T</td>\n",
       "    </tr>\n",
       "    <tr>\n",
       "      <th>23430</th>\n",
       "      <td>Muda</td>\n",
       "      <td>laki-laki</td>\n",
       "      <td>Karyawan Swasta</td>\n",
       "      <td>Y</td>\n",
       "      <td>Y</td>\n",
       "      <td>Y</td>\n",
       "      <td>T</td>\n",
       "      <td>Y</td>\n",
       "      <td>N</td>\n",
       "      <td>T</td>\n",
       "    </tr>\n",
       "    <tr>\n",
       "      <th>23431</th>\n",
       "      <td>Muda</td>\n",
       "      <td>perempuan</td>\n",
       "      <td>Belum/Tidak Bekerja</td>\n",
       "      <td>T</td>\n",
       "      <td>N</td>\n",
       "      <td>N</td>\n",
       "      <td>N</td>\n",
       "      <td>N</td>\n",
       "      <td>N</td>\n",
       "      <td>N</td>\n",
       "    </tr>\n",
       "    <tr>\n",
       "      <th>23432</th>\n",
       "      <td>Muda</td>\n",
       "      <td>laki-laki</td>\n",
       "      <td>Belum/Tidak Bekerja</td>\n",
       "      <td>T</td>\n",
       "      <td>N</td>\n",
       "      <td>N</td>\n",
       "      <td>N</td>\n",
       "      <td>N</td>\n",
       "      <td>N</td>\n",
       "      <td>N</td>\n",
       "    </tr>\n",
       "  </tbody>\n",
       "</table>\n",
       "<p>23433 rows × 10 columns</p>\n",
       "</div>"
      ],
      "text/plain": [
       "      UMUR(TAHUN) JENIS KELAMIN              PEKERJAAN MEROKOK  \\\n",
       "0             Tua     laki-laki               Pedagang       T   \n",
       "1             Tua     perempuan  Mengurus Rumah Tangga       T   \n",
       "2             Tua     perempuan  Mengurus Rumah Tangga       T   \n",
       "3             Tua     laki-laki               Pedagang       T   \n",
       "4             Tua     laki-laki        Karyawan Swasta       Y   \n",
       "...           ...           ...                    ...     ...   \n",
       "23428         Tua     perempuan  Mengurus Rumah Tangga       Y   \n",
       "23429        Muda     perempuan  Mengurus Rumah Tangga       T   \n",
       "23430        Muda     laki-laki        Karyawan Swasta       Y   \n",
       "23431        Muda     perempuan    Belum/Tidak Bekerja       T   \n",
       "23432        Muda     laki-laki    Belum/Tidak Bekerja       T   \n",
       "\n",
       "      PERILAKU BAB DI JAMBAN PERILAKU PENGGUNAAN AIR BERSIH  \\\n",
       "0                          Y                              Y   \n",
       "1                          Y                              Y   \n",
       "2                          Y                              Y   \n",
       "3                          Y                              Y   \n",
       "4                          Y                              Y   \n",
       "...                      ...                            ...   \n",
       "23428                      Y                              Y   \n",
       "23429                      Y                              Y   \n",
       "23430                      Y                              Y   \n",
       "23431                      N                              N   \n",
       "23432                      N                              N   \n",
       "\n",
       "      BATUK BERDAHAK >= 2 MINGGU DILAKUKAN PENGUKURAN TEKANAN DARAH  \\\n",
       "0                              T                                  T   \n",
       "1                              T                                  T   \n",
       "2                              T                                  T   \n",
       "3                              T                                  T   \n",
       "4                              T                                  T   \n",
       "...                          ...                                ...   \n",
       "23428                          N                                  N   \n",
       "23429                          T                                  Y   \n",
       "23430                          T                                  Y   \n",
       "23431                          N                                  N   \n",
       "23432                          N                                  N   \n",
       "\n",
       "      MENGGUNAKAN KB DI DIAGNOSIS HIPERTENSI  \n",
       "0                  N                       T  \n",
       "1                  T                       T  \n",
       "2                  N                       T  \n",
       "3                  N                       T  \n",
       "4                  T                       T  \n",
       "...              ...                     ...  \n",
       "23428              N                       Y  \n",
       "23429              N                       T  \n",
       "23430              N                       T  \n",
       "23431              N                       N  \n",
       "23432              N                       N  \n",
       "\n",
       "[23433 rows x 10 columns]"
      ]
     },
     "execution_count": 10,
     "metadata": {},
     "output_type": "execute_result"
    }
   ],
   "source": [
    "df=pd.read_csv(\"D:/SPADADIKTI/data.csv\")\n",
    "df"
   ]
  },
  {
   "cell_type": "code",
   "execution_count": 11,
   "id": "52b01aac",
   "metadata": {},
   "outputs": [
    {
     "data": {
      "text/html": [
       "<div>\n",
       "<style scoped>\n",
       "    .dataframe tbody tr th:only-of-type {\n",
       "        vertical-align: middle;\n",
       "    }\n",
       "\n",
       "    .dataframe tbody tr th {\n",
       "        vertical-align: top;\n",
       "    }\n",
       "\n",
       "    .dataframe thead th {\n",
       "        text-align: right;\n",
       "    }\n",
       "</style>\n",
       "<table border=\"1\" class=\"dataframe\">\n",
       "  <thead>\n",
       "    <tr style=\"text-align: right;\">\n",
       "      <th></th>\n",
       "      <th>UMUR(TAHUN)</th>\n",
       "      <th>JENIS KELAMIN</th>\n",
       "      <th>PEKERJAAN</th>\n",
       "      <th>MEROKOK</th>\n",
       "      <th>PERILAKU BAB DI JAMBAN</th>\n",
       "      <th>PERILAKU PENGGUNAAN AIR BERSIH</th>\n",
       "      <th>BATUK BERDAHAK &gt;= 2 MINGGU</th>\n",
       "      <th>DILAKUKAN PENGUKURAN TEKANAN DARAH</th>\n",
       "      <th>MENGGUNAKAN KB</th>\n",
       "      <th>DI DIAGNOSIS HIPERTENSI</th>\n",
       "    </tr>\n",
       "  </thead>\n",
       "  <tbody>\n",
       "    <tr>\n",
       "      <th>0</th>\n",
       "      <td>Tua</td>\n",
       "      <td>laki-laki</td>\n",
       "      <td>Pedagang</td>\n",
       "      <td>T</td>\n",
       "      <td>Y</td>\n",
       "      <td>Y</td>\n",
       "      <td>T</td>\n",
       "      <td>T</td>\n",
       "      <td>N</td>\n",
       "      <td>T</td>\n",
       "    </tr>\n",
       "    <tr>\n",
       "      <th>1</th>\n",
       "      <td>Tua</td>\n",
       "      <td>perempuan</td>\n",
       "      <td>Mengurus Rumah Tangga</td>\n",
       "      <td>T</td>\n",
       "      <td>Y</td>\n",
       "      <td>Y</td>\n",
       "      <td>T</td>\n",
       "      <td>T</td>\n",
       "      <td>T</td>\n",
       "      <td>T</td>\n",
       "    </tr>\n",
       "    <tr>\n",
       "      <th>2</th>\n",
       "      <td>Tua</td>\n",
       "      <td>perempuan</td>\n",
       "      <td>Mengurus Rumah Tangga</td>\n",
       "      <td>T</td>\n",
       "      <td>Y</td>\n",
       "      <td>Y</td>\n",
       "      <td>T</td>\n",
       "      <td>T</td>\n",
       "      <td>N</td>\n",
       "      <td>T</td>\n",
       "    </tr>\n",
       "    <tr>\n",
       "      <th>3</th>\n",
       "      <td>Tua</td>\n",
       "      <td>laki-laki</td>\n",
       "      <td>Pedagang</td>\n",
       "      <td>T</td>\n",
       "      <td>Y</td>\n",
       "      <td>Y</td>\n",
       "      <td>T</td>\n",
       "      <td>T</td>\n",
       "      <td>N</td>\n",
       "      <td>T</td>\n",
       "    </tr>\n",
       "    <tr>\n",
       "      <th>4</th>\n",
       "      <td>Tua</td>\n",
       "      <td>laki-laki</td>\n",
       "      <td>Karyawan Swasta</td>\n",
       "      <td>Y</td>\n",
       "      <td>Y</td>\n",
       "      <td>Y</td>\n",
       "      <td>T</td>\n",
       "      <td>T</td>\n",
       "      <td>T</td>\n",
       "      <td>T</td>\n",
       "    </tr>\n",
       "    <tr>\n",
       "      <th>5</th>\n",
       "      <td>Tua</td>\n",
       "      <td>perempuan</td>\n",
       "      <td>Mengurus Rumah Tangga</td>\n",
       "      <td>T</td>\n",
       "      <td>Y</td>\n",
       "      <td>Y</td>\n",
       "      <td>T</td>\n",
       "      <td>N</td>\n",
       "      <td>T</td>\n",
       "      <td>Y</td>\n",
       "    </tr>\n",
       "    <tr>\n",
       "      <th>6</th>\n",
       "      <td>Muda</td>\n",
       "      <td>perempuan</td>\n",
       "      <td>Pelajar/Mahasiswa</td>\n",
       "      <td>T</td>\n",
       "      <td>Y</td>\n",
       "      <td>Y</td>\n",
       "      <td>T</td>\n",
       "      <td>T</td>\n",
       "      <td>N</td>\n",
       "      <td>T</td>\n",
       "    </tr>\n",
       "    <tr>\n",
       "      <th>7</th>\n",
       "      <td>Muda</td>\n",
       "      <td>laki-laki</td>\n",
       "      <td>Pelajar/Mahasiswa</td>\n",
       "      <td>T</td>\n",
       "      <td>N</td>\n",
       "      <td>N</td>\n",
       "      <td>N</td>\n",
       "      <td>N</td>\n",
       "      <td>N</td>\n",
       "      <td>N</td>\n",
       "    </tr>\n",
       "    <tr>\n",
       "      <th>8</th>\n",
       "      <td>Tua</td>\n",
       "      <td>laki-laki</td>\n",
       "      <td>Karyawan Swasta</td>\n",
       "      <td>Y</td>\n",
       "      <td>Y</td>\n",
       "      <td>Y</td>\n",
       "      <td>T</td>\n",
       "      <td>T</td>\n",
       "      <td>T</td>\n",
       "      <td>T</td>\n",
       "    </tr>\n",
       "    <tr>\n",
       "      <th>9</th>\n",
       "      <td>Muda</td>\n",
       "      <td>perempuan</td>\n",
       "      <td>Belum/Tidak Bekerja</td>\n",
       "      <td>T</td>\n",
       "      <td>N</td>\n",
       "      <td>N</td>\n",
       "      <td>N</td>\n",
       "      <td>N</td>\n",
       "      <td>N</td>\n",
       "      <td>N</td>\n",
       "    </tr>\n",
       "  </tbody>\n",
       "</table>\n",
       "</div>"
      ],
      "text/plain": [
       "  UMUR(TAHUN) JENIS KELAMIN              PEKERJAAN MEROKOK  \\\n",
       "0         Tua     laki-laki               Pedagang       T   \n",
       "1         Tua     perempuan  Mengurus Rumah Tangga       T   \n",
       "2         Tua     perempuan  Mengurus Rumah Tangga       T   \n",
       "3         Tua     laki-laki               Pedagang       T   \n",
       "4         Tua     laki-laki        Karyawan Swasta       Y   \n",
       "5         Tua     perempuan  Mengurus Rumah Tangga       T   \n",
       "6        Muda     perempuan      Pelajar/Mahasiswa       T   \n",
       "7        Muda     laki-laki      Pelajar/Mahasiswa       T   \n",
       "8         Tua     laki-laki        Karyawan Swasta       Y   \n",
       "9        Muda     perempuan    Belum/Tidak Bekerja       T   \n",
       "\n",
       "  PERILAKU BAB DI JAMBAN PERILAKU PENGGUNAAN AIR BERSIH  \\\n",
       "0                      Y                              Y   \n",
       "1                      Y                              Y   \n",
       "2                      Y                              Y   \n",
       "3                      Y                              Y   \n",
       "4                      Y                              Y   \n",
       "5                      Y                              Y   \n",
       "6                      Y                              Y   \n",
       "7                      N                              N   \n",
       "8                      Y                              Y   \n",
       "9                      N                              N   \n",
       "\n",
       "  BATUK BERDAHAK >= 2 MINGGU DILAKUKAN PENGUKURAN TEKANAN DARAH  \\\n",
       "0                          T                                  T   \n",
       "1                          T                                  T   \n",
       "2                          T                                  T   \n",
       "3                          T                                  T   \n",
       "4                          T                                  T   \n",
       "5                          T                                  N   \n",
       "6                          T                                  T   \n",
       "7                          N                                  N   \n",
       "8                          T                                  T   \n",
       "9                          N                                  N   \n",
       "\n",
       "  MENGGUNAKAN KB DI DIAGNOSIS HIPERTENSI  \n",
       "0              N                       T  \n",
       "1              T                       T  \n",
       "2              N                       T  \n",
       "3              N                       T  \n",
       "4              T                       T  \n",
       "5              T                       Y  \n",
       "6              N                       T  \n",
       "7              N                       N  \n",
       "8              T                       T  \n",
       "9              N                       N  "
      ]
     },
     "execution_count": 11,
     "metadata": {},
     "output_type": "execute_result"
    }
   ],
   "source": [
    "df.head(10)"
   ]
  },
  {
   "cell_type": "code",
   "execution_count": 12,
   "id": "d7f71417",
   "metadata": {},
   "outputs": [
    {
     "name": "stdout",
     "output_type": "stream",
     "text": [
      "<class 'pandas.core.frame.DataFrame'>\n",
      "RangeIndex: 23433 entries, 0 to 23432\n",
      "Data columns (total 10 columns):\n",
      " #   Column                              Non-Null Count  Dtype \n",
      "---  ------                              --------------  ----- \n",
      " 0   UMUR(TAHUN)                         23433 non-null  object\n",
      " 1   JENIS KELAMIN                       23433 non-null  object\n",
      " 2   PEKERJAAN                           23428 non-null  object\n",
      " 3   MEROKOK                             23430 non-null  object\n",
      " 4   PERILAKU BAB DI JAMBAN              23430 non-null  object\n",
      " 5   PERILAKU PENGGUNAAN AIR BERSIH      23430 non-null  object\n",
      " 6   BATUK BERDAHAK >= 2 MINGGU          23430 non-null  object\n",
      " 7   DILAKUKAN PENGUKURAN TEKANAN DARAH  23430 non-null  object\n",
      " 8   MENGGUNAKAN KB                      23430 non-null  object\n",
      " 9   DI DIAGNOSIS HIPERTENSI             23430 non-null  object\n",
      "dtypes: object(10)\n",
      "memory usage: 1.8+ MB\n"
     ]
    }
   ],
   "source": [
    "df.info()"
   ]
  },
  {
   "cell_type": "code",
   "execution_count": 13,
   "id": "6fb6616a",
   "metadata": {},
   "outputs": [
    {
     "data": {
      "text/html": [
       "<div>\n",
       "<style scoped>\n",
       "    .dataframe tbody tr th:only-of-type {\n",
       "        vertical-align: middle;\n",
       "    }\n",
       "\n",
       "    .dataframe tbody tr th {\n",
       "        vertical-align: top;\n",
       "    }\n",
       "\n",
       "    .dataframe thead th {\n",
       "        text-align: right;\n",
       "    }\n",
       "</style>\n",
       "<table border=\"1\" class=\"dataframe\">\n",
       "  <thead>\n",
       "    <tr style=\"text-align: right;\">\n",
       "      <th></th>\n",
       "      <th>UMUR(TAHUN)</th>\n",
       "      <th>JENIS KELAMIN</th>\n",
       "      <th>PEKERJAAN</th>\n",
       "      <th>MEROKOK</th>\n",
       "      <th>PERILAKU BAB DI JAMBAN</th>\n",
       "      <th>PERILAKU PENGGUNAAN AIR BERSIH</th>\n",
       "      <th>BATUK BERDAHAK &gt;= 2 MINGGU</th>\n",
       "      <th>DILAKUKAN PENGUKURAN TEKANAN DARAH</th>\n",
       "      <th>MENGGUNAKAN KB</th>\n",
       "      <th>DI DIAGNOSIS HIPERTENSI</th>\n",
       "    </tr>\n",
       "  </thead>\n",
       "  <tbody>\n",
       "    <tr>\n",
       "      <th>count</th>\n",
       "      <td>23433</td>\n",
       "      <td>23433</td>\n",
       "      <td>23428</td>\n",
       "      <td>23430</td>\n",
       "      <td>23430</td>\n",
       "      <td>23430</td>\n",
       "      <td>23430</td>\n",
       "      <td>23430</td>\n",
       "      <td>23430</td>\n",
       "      <td>23430</td>\n",
       "    </tr>\n",
       "    <tr>\n",
       "      <th>unique</th>\n",
       "      <td>2</td>\n",
       "      <td>2</td>\n",
       "      <td>44</td>\n",
       "      <td>3</td>\n",
       "      <td>3</td>\n",
       "      <td>3</td>\n",
       "      <td>3</td>\n",
       "      <td>3</td>\n",
       "      <td>3</td>\n",
       "      <td>3</td>\n",
       "    </tr>\n",
       "    <tr>\n",
       "      <th>top</th>\n",
       "      <td>Muda</td>\n",
       "      <td>laki-laki</td>\n",
       "      <td>Belum/Tidak Bekerja</td>\n",
       "      <td>T</td>\n",
       "      <td>Y</td>\n",
       "      <td>Y</td>\n",
       "      <td>T</td>\n",
       "      <td>T</td>\n",
       "      <td>N</td>\n",
       "      <td>T</td>\n",
       "    </tr>\n",
       "    <tr>\n",
       "      <th>freq</th>\n",
       "      <td>13588</td>\n",
       "      <td>11870</td>\n",
       "      <td>5891</td>\n",
       "      <td>18396</td>\n",
       "      <td>15720</td>\n",
       "      <td>17246</td>\n",
       "      <td>17114</td>\n",
       "      <td>13438</td>\n",
       "      <td>18335</td>\n",
       "      <td>16440</td>\n",
       "    </tr>\n",
       "  </tbody>\n",
       "</table>\n",
       "</div>"
      ],
      "text/plain": [
       "       UMUR(TAHUN) JENIS KELAMIN            PEKERJAAN MEROKOK  \\\n",
       "count        23433         23433                23428   23430   \n",
       "unique           2             2                   44       3   \n",
       "top           Muda     laki-laki  Belum/Tidak Bekerja       T   \n",
       "freq         13588         11870                 5891   18396   \n",
       "\n",
       "       PERILAKU BAB DI JAMBAN PERILAKU PENGGUNAAN AIR BERSIH  \\\n",
       "count                   23430                          23430   \n",
       "unique                      3                              3   \n",
       "top                         Y                              Y   \n",
       "freq                    15720                          17246   \n",
       "\n",
       "       BATUK BERDAHAK >= 2 MINGGU DILAKUKAN PENGUKURAN TEKANAN DARAH  \\\n",
       "count                       23430                              23430   \n",
       "unique                          3                                  3   \n",
       "top                             T                                  T   \n",
       "freq                        17114                              13438   \n",
       "\n",
       "       MENGGUNAKAN KB DI DIAGNOSIS HIPERTENSI  \n",
       "count           23430                   23430  \n",
       "unique              3                       3  \n",
       "top                 N                       T  \n",
       "freq            18335                   16440  "
      ]
     },
     "execution_count": 13,
     "metadata": {},
     "output_type": "execute_result"
    }
   ],
   "source": [
    "df.describe()"
   ]
  },
  {
   "cell_type": "code",
   "execution_count": 14,
   "id": "dad0b8bd",
   "metadata": {},
   "outputs": [
    {
     "data": {
      "text/plain": [
       "UMUR(TAHUN)                           0\n",
       "JENIS KELAMIN                         0\n",
       "PEKERJAAN                             5\n",
       "MEROKOK                               3\n",
       "PERILAKU BAB DI JAMBAN                3\n",
       "PERILAKU PENGGUNAAN AIR BERSIH        3\n",
       "BATUK BERDAHAK >= 2 MINGGU            3\n",
       "DILAKUKAN PENGUKURAN TEKANAN DARAH    3\n",
       "MENGGUNAKAN KB                        3\n",
       "DI DIAGNOSIS HIPERTENSI               3\n",
       "dtype: int64"
      ]
     },
     "execution_count": 14,
     "metadata": {},
     "output_type": "execute_result"
    }
   ],
   "source": [
    "df.isnull().sum()"
   ]
  },
  {
   "cell_type": "code",
   "execution_count": 15,
   "id": "86ac4a39",
   "metadata": {},
   "outputs": [
    {
     "data": {
      "text/plain": [
       "(23433, 10)"
      ]
     },
     "execution_count": 15,
     "metadata": {},
     "output_type": "execute_result"
    }
   ],
   "source": [
    "df.shape"
   ]
  },
  {
   "cell_type": "code",
   "execution_count": 16,
   "id": "2325bebd",
   "metadata": {},
   "outputs": [
    {
     "data": {
      "text/plain": [
       "array(['Pedagang', 'Mengurus Rumah Tangga', 'Karyawan Swasta',\n",
       "       'Pelajar/Mahasiswa', 'Belum/Tidak Bekerja',\n",
       "       'Pegawai Negeri Sipil (PNS)', 'Buruh Harian Lepas', 'Perdagangan',\n",
       "       'Kepolisian RI (POLRI)', 'Pensiunan', 'Wiraswasta',\n",
       "       'Karyawan BUMD', 'Guru', 'Karyawan BUMN', 'Petani/Pekebun',\n",
       "       'Karyawan Honorer', 'Tentara Nasional Indonesia (TNI)', 'Lainnya',\n",
       "       'Tukang Cukur', 'Sopir', 'Perawat', 'Pembantu Rumah Tangga',\n",
       "       'Dokter', 'Tukang Jahit', 'Wartawan', 'Perangkat Desa', 'Pelaut',\n",
       "       'Dosen', 'Bidan', 'Mekanik', 'Buruh Tani/Perkebunan', 'Peternak',\n",
       "       'Transportasi', 'Tukang Gigi', nan, 'Apoteker', 'Konsultan',\n",
       "       'Akuntan', 'Seniman', 'Anggota Kabinet/Kementrian', 'Pendeta',\n",
       "       'Konstruksi', 'Pengacara', 'Juru Masak', 'Duta Besar'],\n",
       "      dtype=object)"
      ]
     },
     "execution_count": 16,
     "metadata": {},
     "output_type": "execute_result"
    }
   ],
   "source": [
    "#Mengetahui bentuk data yang ada di dalam kolom Perkerjaan\n",
    "df['PEKERJAAN'].unique()"
   ]
  },
  {
   "cell_type": "code",
   "execution_count": 17,
   "id": "bef32818",
   "metadata": {},
   "outputs": [
    {
     "data": {
      "text/plain": [
       "45"
      ]
     },
     "execution_count": 17,
     "metadata": {},
     "output_type": "execute_result"
    }
   ],
   "source": [
    "#Mengetahui jumlah data yang ada di dalam kolom Perkerjaan\n",
    "len(df['PEKERJAAN'].unique())"
   ]
  },
  {
   "cell_type": "code",
   "execution_count": 18,
   "id": "e2ff54fc",
   "metadata": {},
   "outputs": [
    {
     "data": {
      "text/plain": [
       "Index(['UMUR(TAHUN)', 'JENIS KELAMIN', 'PEKERJAAN', 'MEROKOK',\n",
       "       'PERILAKU BAB DI JAMBAN', 'PERILAKU PENGGUNAAN AIR BERSIH',\n",
       "       'BATUK BERDAHAK >= 2 MINGGU', 'DILAKUKAN PENGUKURAN TEKANAN DARAH',\n",
       "       'MENGGUNAKAN KB', 'DI DIAGNOSIS HIPERTENSI'],\n",
       "      dtype='object')"
      ]
     },
     "execution_count": 18,
     "metadata": {},
     "output_type": "execute_result"
    }
   ],
   "source": [
    "#Mengetahui kunci (keys) elemen di dalam dataset\n",
    "df.keys()\n"
   ]
  },
  {
   "cell_type": "code",
   "execution_count": 19,
   "id": "44124499",
   "metadata": {},
   "outputs": [
    {
     "data": {
      "text/plain": [
       "Text(0.5, 1.0, 'DI DIAGNOSIS HIPERTENSI')"
      ]
     },
     "execution_count": 19,
     "metadata": {},
     "output_type": "execute_result"
    },
    {
     "data": {
      "image/png": "[encoded data removed]",
      "text/plain": [
       "<Figure size 1296x576 with 2 Axes>"
      ]
     },
     "metadata": {
      "needs_background": "light"
     },
     "output_type": "display_data"
    }
   ],
   "source": [
    "#Memvisualisasikan data\n",
    "#Menampilkan visualisasi bar plot dan pie chart untuk menghitung frekuensi dari kolom Di Diagnosis hipertensi dalam dataset data\n",
    "f,ax=plt.subplots(1,2,figsize=(18,8))\n",
    "df['DI DIAGNOSIS HIPERTENSI'].value_counts().plot.pie(explode=[0.1,0.1,0.1],autopct='%1.1f%%',ax=ax[0],shadow=True)\n",
    "ax[0].set_xlabel('DI DIAGNOSIS HIPERTENSI')\n",
    "ax[0].set_ylabel('JUMLAH')\n",
    "sns.countplot('DI DIAGNOSIS HIPERTENSI',data=df,ax=ax[1])\n",
    "ax[1].set_title('DI DIAGNOSIS HIPERTENSI')"
   ]
  },
  {
   "cell_type": "code",
   "execution_count": 20,
   "id": "96bae075",
   "metadata": {},
   "outputs": [],
   "source": [
    "\n",
    "#Metrics\n",
    "from sklearn.metrics import make_scorer, accuracy_score,precision_score\n",
    "from sklearn.metrics import classification_report\n",
    "\n",
    "# Import libarary confusion matrix\n",
    "from sklearn.metrics import confusion_matrix\n",
    "\n",
    "from sklearn.metrics import accuracy_score ,precision_score,recall_score,f1_score\n",
    "\n",
    "#Model Select\n",
    "from sklearn.model_selection import KFold,train_test_split,cross_val_score\n",
    "from sklearn.model_selection import train_test_split\n",
    "# Import libarary Gaussian Naive Bayes\n",
    "from sklearn.naive_bayes import GaussianNB"
   ]
  },
  {
   "cell_type": "code",
   "execution_count": 21,
   "id": "544436b2",
   "metadata": {},
   "outputs": [],
   "source": [
    "X=df.iloc[:, :-1].values\n",
    "y=df.iloc[:, -1:].values"
   ]
  },
  {
   "cell_type": "code",
   "execution_count": 22,
   "id": "b8681b35",
   "metadata": {},
   "outputs": [
    {
     "name": "stdout",
     "output_type": "stream",
     "text": [
      "[['Tua' 'laki-laki' 'Pedagang' ... 'T' 'T' 'N']\n",
      " ['Tua' 'perempuan' 'Mengurus Rumah Tangga' ... 'T' 'T' 'T']\n",
      " ['Tua' 'perempuan' 'Mengurus Rumah Tangga' ... 'T' 'T' 'N']\n",
      " ...\n",
      " ['Muda' 'laki-laki' 'Karyawan Swasta' ... 'T' 'Y' 'N']\n",
      " ['Muda' 'perempuan' 'Belum/Tidak Bekerja' ... 'N' 'N' 'N']\n",
      " ['Muda' 'laki-laki' 'Belum/Tidak Bekerja' ... 'N' 'N' 'N']]\n"
     ]
    }
   ],
   "source": [
    "print (X)"
   ]
  },
  {
   "cell_type": "code",
   "execution_count": 23,
   "id": "c5ebb2fc",
   "metadata": {},
   "outputs": [
    {
     "name": "stdout",
     "output_type": "stream",
     "text": [
      "[['T']\n",
      " ['T']\n",
      " ['T']\n",
      " ...\n",
      " ['T']\n",
      " ['N']\n",
      " ['N']]\n"
     ]
    }
   ],
   "source": [
    "print (y)"
   ]
  },
  {
   "cell_type": "code",
   "execution_count": 24,
   "id": "42e6ab66",
   "metadata": {},
   "outputs": [],
   "source": [
    "from sklearn.preprocessing import LabelEncoder\n",
    "le = LabelEncoder()\n",
    "X[:,0] = le.fit_transform(X[:,0])"
   ]
  },
  {
   "cell_type": "code",
   "execution_count": 25,
   "id": "e2485f5a",
   "metadata": {},
   "outputs": [],
   "source": [
    "le = LabelEncoder()\n",
    "X[:,1] = le.fit_transform(X[:,1])"
   ]
  },
  {
   "cell_type": "code",
   "execution_count": 26,
   "id": "8fe14eb6",
   "metadata": {},
   "outputs": [],
   "source": [
    "le = LabelEncoder()\n",
    "X[:,2] = le.fit_transform(X[:,2])"
   ]
  },
  {
   "cell_type": "code",
   "execution_count": 27,
   "id": "2e8ff7aa",
   "metadata": {},
   "outputs": [],
   "source": [
    "le = LabelEncoder()\n",
    "X[:,3] = le.fit_transform(X[:,3])"
   ]
  },
  {
   "cell_type": "code",
   "execution_count": 28,
   "id": "ced0aad3",
   "metadata": {},
   "outputs": [],
   "source": [
    "le = LabelEncoder()\n",
    "X[:,4] = le.fit_transform(X[:,4])"
   ]
  },
  {
   "cell_type": "code",
   "execution_count": 29,
   "id": "41de5913",
   "metadata": {},
   "outputs": [],
   "source": [
    "le = LabelEncoder()\n",
    "X[:,5] = le.fit_transform(X[:,5])"
   ]
  },
  {
   "cell_type": "code",
   "execution_count": 30,
   "id": "b5a5a4ba",
   "metadata": {},
   "outputs": [],
   "source": [
    "le = LabelEncoder()\n",
    "X[:,6] = le.fit_transform(X[:,6])"
   ]
  },
  {
   "cell_type": "code",
   "execution_count": 31,
   "id": "73f80e04",
   "metadata": {},
   "outputs": [],
   "source": [
    "le = LabelEncoder()\n",
    "X[:,7] = le.fit_transform(X[:,7])"
   ]
  },
  {
   "cell_type": "code",
   "execution_count": 32,
   "id": "cac1e2c1",
   "metadata": {},
   "outputs": [],
   "source": [
    "le = LabelEncoder()\n",
    "X[:,8] = le.fit_transform(X[:,8])"
   ]
  },
  {
   "cell_type": "code",
   "execution_count": 33,
   "id": "eab77888",
   "metadata": {},
   "outputs": [
    {
     "name": "stdout",
     "output_type": "stream",
     "text": [
      "[[1 0 22 ... 1 1 0]\n",
      " [1 1 21 ... 1 1 1]\n",
      " [1 1 21 ... 1 1 0]\n",
      " ...\n",
      " [0 0 15 ... 1 2 0]\n",
      " [0 1 3 ... 0 0 0]\n",
      " [0 0 3 ... 0 0 0]]\n"
     ]
    }
   ],
   "source": [
    "print (X)"
   ]
  },
  {
   "cell_type": "code",
   "execution_count": 44,
   "id": "65dc9387",
   "metadata": {},
   "outputs": [
    {
     "name": "stdout",
     "output_type": "stream",
     "text": [
      "[1 1 1 ... 1 0 0]\n"
     ]
    }
   ],
   "source": [
    "print(y)"
   ]
  },
  {
   "cell_type": "code",
   "execution_count": 34,
   "id": "2d317410",
   "metadata": {},
   "outputs": [],
   "source": [
    "le = LabelEncoder()\n",
    "y = le.fit_transform(y)"
   ]
  },
  {
   "cell_type": "code",
   "execution_count": 35,
   "id": "4f766fcb",
   "metadata": {},
   "outputs": [],
   "source": [
    "X_train,X_test,y_train,y_test =train_test_split(X,y,train_size=0.8, test_size=0.2,random_state=0)"
   ]
  },
  {
   "cell_type": "code",
   "execution_count": 36,
   "id": "495f786e",
   "metadata": {},
   "outputs": [],
   "source": [
    "from sklearn.preprocessing import StandardScaler\n",
    "sc = StandardScaler()\n",
    "X_train = sc.fit_transform(X_train)\n",
    "X_test = sc.fit_transform(X_test)"
   ]
  },
  {
   "cell_type": "code",
   "execution_count": 37,
   "id": "c9b60ebb",
   "metadata": {},
   "outputs": [
    {
     "data": {
      "text/plain": [
       "((18746, 9), (4687, 9), (18746,), (4687,))"
      ]
     },
     "execution_count": 37,
     "metadata": {},
     "output_type": "execute_result"
    }
   ],
   "source": [
    "X_train.shape, X_test.shape, y_train.shape, y_test.shape"
   ]
  },
  {
   "cell_type": "code",
   "execution_count": 38,
   "id": "f79c3129",
   "metadata": {},
   "outputs": [
    {
     "name": "stdout",
     "output_type": "stream",
     "text": [
      "[[ 1.17698375 -0.97930301  0.98348303 ...  0.60452534 -1.31517867\n",
      "  -0.48927415]\n",
      " [-0.8496294   1.02113441  0.30709884 ...  0.60452534  0.27450083\n",
      "   3.25666551]\n",
      " [-0.8496294   1.02113441 -1.21476557 ... -1.63996505 -1.31517867\n",
      "  -0.48927415]\n",
      " ...\n",
      " [-0.8496294   1.02113441 -0.2001893  ...  0.60452534  1.86418032\n",
      "  -0.48927415]\n",
      " [ 1.17698375 -0.97930301  2.16715535 ...  0.60452534  1.86418032\n",
      "   1.38369568]\n",
      " [ 1.17698375  1.02113441  2.16715535 ...  0.60452534  1.86418032\n",
      "  -0.48927415]]\n"
     ]
    }
   ],
   "source": [
    "print (X_train)"
   ]
  },
  {
   "cell_type": "code",
   "execution_count": 39,
   "id": "fb4b7f98",
   "metadata": {},
   "outputs": [
    {
     "data": {
      "text/plain": [
       "GaussianNB()"
      ]
     },
     "execution_count": 39,
     "metadata": {},
     "output_type": "execute_result"
    }
   ],
   "source": [
    "gaussian = GaussianNB()\n",
    "gaussian.fit(X_train, y_train)"
   ]
  },
  {
   "cell_type": "code",
   "execution_count": 40,
   "id": "dd51fcea",
   "metadata": {
    "scrolled": true
   },
   "outputs": [
    {
     "data": {
      "text/plain": [
       "0.7042884574354598"
      ]
     },
     "execution_count": 40,
     "metadata": {},
     "output_type": "execute_result"
    }
   ],
   "source": [
    "model = GaussianNB()\n",
    "model.fit(X_train,y_train)\n",
    "y_pred = model.predict(X_test)\n",
    "accuracy_score(y_test, y_pred)"
   ]
  }
 ],
 "metadata": {
  "kernelspec": {
   "display_name": "Python 3",
   "language": "python",
   "name": "python3"
  },
  "language_info": {
   "codemirror_mode": {
    "name": "ipython",
    "version": 3
   },
   "file_extension": ".py",
   "mimetype": "text/x-python",
   "name": "python",
   "nbconvert_exporter": "python",
   "pygments_lexer": "ipython3",
   "version": "3.8.8"
  }
 },
 "nbformat": 4,
 "nbformat_minor": 5
}
